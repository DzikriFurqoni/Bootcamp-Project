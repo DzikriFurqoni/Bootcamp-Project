{
  "cells": [
    {
      "cell_type": "markdown",
      "metadata": {
        "id": "wJaeORnGO7PY"
      },
      "source": [
        "# import library"
      ]
    },
    {
      "cell_type": "code",
      "execution_count": 16,
      "metadata": {
        "id": "Kr5-pASALAe4"
      },
      "outputs": [],
      "source": [
        "# import library\n",
        "\n",
        "import pickle\n",
        "import json\n",
        "import pandas as pd\n",
        "import numpy as np\n",
        "from sklearn.compose import ColumnTransformer"
      ]
    },
    {
      "attachments": {},
      "cell_type": "markdown",
      "metadata": {},
      "source": [
        "Melakukan import Library yang akan kita gunakan untuk notebook inference"
      ]
    },
    {
      "cell_type": "markdown",
      "metadata": {
        "id": "HiGqGZ1XO90I"
      },
      "source": [
        "# load model"
      ]
    },
    {
      "cell_type": "code",
      "execution_count": 17,
      "metadata": {
        "colab": {
          "base_uri": "https://localhost:8080/"
        },
        "id": "ot_gIaS2OUK4",
        "outputId": "576ac490-d5d1-4060-fb09-3815a3ebf518"
      },
      "outputs": [],
      "source": [
        "# Load all Files\n",
        "\n",
        "with open('pipelines.pkl', 'rb') as file_1:\n",
        "  pipelines = pickle.load(file_1)\n",
        "\n",
        "with open('num_columns.txt', 'r') as file_2:\n",
        "  num_columns = json.load(file_2)\n",
        "\n",
        "with open('cat_columns.txt', 'r') as file_3:\n",
        "  cat_columns = json.load(file_3)\n",
        "\n",
        "with open('enc_columns.txt', 'r') as file_4:\n",
        "  enc_columns = json.load(file_4)"
      ]
    },
    {
      "attachments": {},
      "cell_type": "markdown",
      "metadata": {},
      "source": [
        "Me load data-data yang sudah kita save di notebook sebelumnya."
      ]
    },
    {
      "cell_type": "markdown",
      "metadata": {
        "id": "C5NchNf-PCNg"
      },
      "source": [
        "# inferencing"
      ]
    },
    {
      "cell_type": "code",
      "execution_count": 18,
      "metadata": {
        "colab": {
          "base_uri": "https://localhost:8080/",
          "height": 81
        },
        "id": "0VRUOkeQPG4v",
        "outputId": "eaa20f5c-160f-4e28-a8fa-9c1608227a10"
      },
      "outputs": [
        {
          "data": {
            "text/html": [
              "<div>\n",
              "<style scoped>\n",
              "    .dataframe tbody tr th:only-of-type {\n",
              "        vertical-align: middle;\n",
              "    }\n",
              "\n",
              "    .dataframe tbody tr th {\n",
              "        vertical-align: top;\n",
              "    }\n",
              "\n",
              "    .dataframe thead th {\n",
              "        text-align: right;\n",
              "    }\n",
              "</style>\n",
              "<table border=\"1\" class=\"dataframe\">\n",
              "  <thead>\n",
              "    <tr style=\"text-align: right;\">\n",
              "      <th></th>\n",
              "      <th>RowNumber</th>\n",
              "      <th>CustomerId</th>\n",
              "      <th>Surname</th>\n",
              "      <th>CreditScore</th>\n",
              "      <th>Geography</th>\n",
              "      <th>Gender</th>\n",
              "      <th>Age</th>\n",
              "      <th>Tenure</th>\n",
              "      <th>Balance</th>\n",
              "      <th>NumOfProducts</th>\n",
              "      <th>HasCrCard</th>\n",
              "      <th>IsActiveMember</th>\n",
              "      <th>EstimatedSalary</th>\n",
              "    </tr>\n",
              "  </thead>\n",
              "  <tbody>\n",
              "    <tr>\n",
              "      <th>0</th>\n",
              "      <td>666</td>\n",
              "      <td>666</td>\n",
              "      <td>Paijo</td>\n",
              "      <td>600</td>\n",
              "      <td>France</td>\n",
              "      <td>Male</td>\n",
              "      <td>56</td>\n",
              "      <td>10</td>\n",
              "      <td>25000</td>\n",
              "      <td>1</td>\n",
              "      <td>1</td>\n",
              "      <td>1</td>\n",
              "      <td>25000</td>\n",
              "    </tr>\n",
              "  </tbody>\n",
              "</table>\n",
              "</div>"
            ],
            "text/plain": [
              "   RowNumber  CustomerId Surname  CreditScore Geography Gender  Age  Tenure  \\\n",
              "0        666         666   Paijo          600    France   Male   56      10   \n",
              "\n",
              "   Balance  NumOfProducts  HasCrCard  IsActiveMember  EstimatedSalary  \n",
              "0    25000              1          1               1            25000  "
            ]
          },
          "execution_count": 18,
          "metadata": {},
          "output_type": "execute_result"
        }
      ],
      "source": [
        "# Create New Data\n",
        "\n",
        "data_inf = {\n",
        "    'RowNumber': 666,\n",
        "    'CustomerId': 666,\n",
        "    'Surname': 'Paijo',\n",
        "    'CreditScore': 600,\n",
        "    'Geography' : 'France',\n",
        "    'Gender': 'Male',\n",
        "    'Age': 56,\n",
        "    'Tenure': 10,\n",
        "    'Balance': 25000,\n",
        "    'NumOfProducts': 1,\n",
        "    'HasCrCard': 1,\n",
        "    'IsActiveMember': 1,\n",
        "    'EstimatedSalary': 25000,\n",
        "}\n",
        "\n",
        "data_inf = pd.DataFrame([data_inf])\n",
        "data_inf"
      ]
    },
    {
      "attachments": {},
      "cell_type": "markdown",
      "metadata": {},
      "source": [
        "Membuat data baru berdasarkan data-data dari data frame original."
      ]
    },
    {
      "cell_type": "code",
      "execution_count": 19,
      "metadata": {
        "colab": {
          "base_uri": "https://localhost:8080/"
        },
        "id": "AaFFaWwhPMnn",
        "outputId": "ecead934-4985-46ea-efb0-794eb031e075"
      },
      "outputs": [
        {
          "data": {
            "text/plain": [
              "array([1], dtype=int64)"
            ]
          },
          "execution_count": 19,
          "metadata": {},
          "output_type": "execute_result"
        }
      ],
      "source": [
        "# predict using Pipelines Base model Decision Tree regresson\n",
        "\n",
        "y_pred_inf = pipelines.predict(data_inf)\n",
        "y_pred_inf"
      ]
    },
    {
      "attachments": {},
      "cell_type": "markdown",
      "metadata": {},
      "source": [
        "Dari Data dan value yang sudah kita imput, dilakukan prediksi dan hasilnya menunjukan bahwa dari kriteria yang sudah kita input menunjukan Hasil prediksi adalah 1 artinya prediksi tersebut menunjukan bahwa Nasabah Tersebut akan Churn."
      ]
    }
  ],
  "metadata": {
    "colab": {
      "provenance": []
    },
    "kernelspec": {
      "display_name": "Python 3",
      "name": "python3"
    },
    "language_info": {
      "codemirror_mode": {
        "name": "ipython",
        "version": 3
      },
      "file_extension": ".py",
      "mimetype": "text/x-python",
      "name": "python",
      "nbconvert_exporter": "python",
      "pygments_lexer": "ipython3",
      "version": "3.10.9"
    }
  },
  "nbformat": 4,
  "nbformat_minor": 0
}
